{
  "nbformat": 4,
  "nbformat_minor": 0,
  "metadata": {
    "colab": {
      "name": "Tic_Tac_Toe.ipynb",
      "provenance": [],
      "collapsed_sections": []
    },
    "kernelspec": {
      "name": "python3",
      "display_name": "Python 3"
    },
    "language_info": {
      "name": "python"
    }
  },
  "cells": [
    {
      "cell_type": "markdown",
      "metadata": {
        "id": "JgocNDbbpenl"
      },
      "source": [
        "# Tic Tac Toe Game"
      ]
    },
    {
      "cell_type": "code",
      "metadata": {
        "id": "gkZjiE29qHJU"
      },
      "source": [
        "from IPython.display import clear_output\n",
        "\n",
        "def display_board(board):\n",
        "  print('-------------')\n",
        "  print('| ' + board[1] + ' | ' + board[2] + ' | ' + board[3] + ' | ')\n",
        "  print('-------------')\n",
        "  print('| ' + board[4] + ' | ' + board[5] + ' | ' + board[6] + ' | ')\n",
        "  print('-------------')\n",
        "  print('| ' + board[7] + ' | ' + board[8] + ' | ' + board[9] + ' | ')\n",
        "  print('-------------')"
      ],
      "execution_count": 1,
      "outputs": []
    },
    {
      "cell_type": "code",
      "metadata": {
        "id": "qHY474_rqNS6"
      },
      "source": [
        "def player_input():\n",
        "       input_marker = ''\n",
        "\n",
        "       while not (input_marker == 'X' or input_marker == 'O'):\n",
        "         input_marker = input(\"Please enter a marker 'X' or 'O' : \").upper()  \n",
        "      \n",
        "       if input_marker == 'X':\n",
        "           return ('X', 'O')    \n",
        "       else:\n",
        "           return ('O', 'X')"
      ],
      "execution_count": 2,
      "outputs": []
    },
    {
      "cell_type": "code",
      "metadata": {
        "id": "K_U8mGq5qRf6"
      },
      "source": [
        "def place_marker(board, marker, position):\n",
        "  board[position] = marker"
      ],
      "execution_count": 3,
      "outputs": []
    },
    {
      "cell_type": "code",
      "metadata": {
        "id": "hgxrMy3WqUoa"
      },
      "source": [
        "def win_check(board, mark):\n",
        "    return ((board[1] == mark and board [2] == mark and board[3] == mark) or\n",
        "            (board[4] == mark and board [5] == mark and board[6] == mark) or\n",
        "            (board[7] == mark and board [8] == mark and board[9] == mark) or\n",
        "            (board[1] == mark and board [4] == mark and board[7] == mark) or\n",
        "            (board[2] == mark and board [5] == mark and board[8] == mark) or\n",
        "            (board[3] == mark and board [6] == mark and board[9] == mark) or\n",
        "            (board[1] == mark and board [5] == mark and board[9] == mark) or\n",
        "            (board[3] == mark and board [5] == mark and board[7] == mark))"
      ],
      "execution_count": 4,
      "outputs": []
    },
    {
      "cell_type": "code",
      "metadata": {
        "id": "kRS_O6DavvP6"
      },
      "source": [
        "import random\n",
        "\n",
        "def choose_first():\n",
        "    player = random.randint(1,2)\n",
        "    return player"
      ],
      "execution_count": 5,
      "outputs": []
    },
    {
      "cell_type": "code",
      "metadata": {
        "id": "tRA74HMBvzLE"
      },
      "source": [
        "def space_check(board, position):\n",
        "    return board[position] == ' '"
      ],
      "execution_count": 6,
      "outputs": []
    },
    {
      "cell_type": "code",
      "metadata": {
        "id": "E0zazyTyv3ih"
      },
      "source": [
        "def full_board_check(board):\n",
        "    return ' ' not in board"
      ],
      "execution_count": 7,
      "outputs": []
    },
    {
      "cell_type": "code",
      "metadata": {
        "id": "gAulb6ZDv50D"
      },
      "source": [
        "def player_choice(board):\n",
        "    position_marker = False\n",
        "    while position_marker == False:\n",
        "      input_position = int(input(\"Please enter a position to place your marker (1-9) : \"))\n",
        "      if input_position not in range(1,10):\n",
        "        print(\"Sorry!! Invalid Selection!\")\n",
        "      else:\n",
        "        if space_check(board, input_position) == True:\n",
        "          return input_position\n",
        "          position_marker = True"
      ],
      "execution_count": 8,
      "outputs": []
    },
    {
      "cell_type": "code",
      "metadata": {
        "id": "czvxHc84v7yS"
      },
      "source": [
        "def replay():\n",
        "    replay_ind = input(\"Do you want to play the game again ? Y or N  \")\n",
        "    if replay_ind == 'Y':\n",
        "      return True\n",
        "    else:\n",
        "      return False"
      ],
      "execution_count": 9,
      "outputs": []
    },
    {
      "cell_type": "code",
      "metadata": {
        "colab": {
          "base_uri": "https://localhost:8080/"
        },
        "id": "SEOmtpeWv-Yb",
        "outputId": "e2dda9a7-2405-4c72-f053-0acee2ccbf57"
      },
      "source": [
        "\n",
        "print('Welcome to Tic Tac Toe!')\n",
        "\n",
        "while True:\n",
        "    board = ['#',' ',' ',' ',' ',' ',' ',' ',' ',' ']\n",
        "    display_board(board)\n",
        "    player1, player2 = player_input()\n",
        "    print(f\"Player 1 : {player1},  Player 2 : {player2}\")\n",
        "    turn = choose_first()\n",
        "    print(f\"Player {turn} will go first!!!\")\n",
        "\n",
        "    play_game = input(\"Are you ready to play game ? Yes or No : \")\n",
        "    if play_game[0].lower() == 'y':\n",
        "      game_on = True\n",
        "    else:\n",
        "      game_on = False\n",
        "\n",
        "    while game_on:\n",
        "        if turn == 1:\n",
        "          marker = player1\n",
        "          print(f\"Player {turn} turn for '{marker}' marker\")\n",
        "          position = player_choice(board)\n",
        "          place_marker(board, marker, position)\n",
        "          display_board(board)\n",
        "          if win_check(board, marker) == True:\n",
        "            print(\"Congrats!!! Player 1 won the game\")\n",
        "            game_on = False\n",
        "            break \n",
        "          elif full_board_check(board):\n",
        "                print(\"Game is Draw!!!\")\n",
        "                break\n",
        "          else:\n",
        "                turn = 2\n",
        "        else:\n",
        "          marker = player2\n",
        "          print(f\"Player {turn} turn for '{marker}' marker\")\n",
        "          position = player_choice(board)\n",
        "          place_marker(board, marker, position)\n",
        "          display_board(board)\n",
        "          if win_check(board, marker) == True:\n",
        "            print(\"Congrats!!! Player 2 won the game\")\n",
        "            game_on = False\n",
        "            break            \n",
        "          elif full_board_check(board):\n",
        "                print(\"Game is Draw!!!\")\n",
        "                break\n",
        "          else:\n",
        "                turn = 1\n",
        "\n",
        "    if not replay():\n",
        "      break "
      ],
      "execution_count": 10,
      "outputs": [
        {
          "output_type": "stream",
          "text": [
            "Welcome to Tic Tac Toe!\n",
            "-------------\n",
            "|   |   |   | \n",
            "-------------\n",
            "|   |   |   | \n",
            "-------------\n",
            "|   |   |   | \n",
            "-------------\n",
            "Please enter a marker 'X' or 'O' : p\n",
            "Please enter a marker 'X' or 'O' : O\n",
            "Player 1 : O,  Player 2 : X\n",
            "Player 1 will go first!!!\n",
            "Are you ready to play game ? Yes or No : Yes\n",
            "Player 1 turn for 'O' marker\n",
            "Please enter a position to place your marker (1-9) : 5\n",
            "-------------\n",
            "|   |   |   | \n",
            "-------------\n",
            "|   | O |   | \n",
            "-------------\n",
            "|   |   |   | \n",
            "-------------\n",
            "Player 2 turn for 'X' marker\n",
            "Please enter a position to place your marker (1-9) : 3\n",
            "-------------\n",
            "|   |   | X | \n",
            "-------------\n",
            "|   | O |   | \n",
            "-------------\n",
            "|   |   |   | \n",
            "-------------\n",
            "Player 1 turn for 'O' marker\n",
            "Please enter a position to place your marker (1-9) : 2\n",
            "-------------\n",
            "|   | O | X | \n",
            "-------------\n",
            "|   | O |   | \n",
            "-------------\n",
            "|   |   |   | \n",
            "-------------\n",
            "Player 2 turn for 'X' marker\n",
            "Please enter a position to place your marker (1-9) : 7\n",
            "-------------\n",
            "|   | O | X | \n",
            "-------------\n",
            "|   | O |   | \n",
            "-------------\n",
            "| X |   |   | \n",
            "-------------\n",
            "Player 1 turn for 'O' marker\n",
            "Please enter a position to place your marker (1-9) : 8\n",
            "-------------\n",
            "|   | O | X | \n",
            "-------------\n",
            "|   | O |   | \n",
            "-------------\n",
            "| X | O |   | \n",
            "-------------\n",
            "Congrats!!! Player 1 won the game\n",
            "Do you want to play the game again ? Y or N  N\n"
          ],
          "name": "stdout"
        }
      ]
    }
  ]
}