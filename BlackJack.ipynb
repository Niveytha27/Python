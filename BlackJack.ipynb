{
  "nbformat": 4,
  "nbformat_minor": 0,
  "metadata": {
    "colab": {
      "name": "BlackJack.ipynb",
      "provenance": [],
      "collapsed_sections": [],
      "authorship_tag": "ABX9TyNYP4N5FvI+zqqMfBCDxwcj",
      "include_colab_link": true
    },
    "kernelspec": {
      "name": "python3",
      "display_name": "Python 3"
    },
    "language_info": {
      "name": "python"
    }
  },
  "cells": [
    {
      "cell_type": "markdown",
      "metadata": {
        "id": "view-in-github",
        "colab_type": "text"
      },
      "source": [
        "<a href=\"https://colab.research.google.com/github/Niveytha27/Python/blob/main/BlackJack.ipynb\" target=\"_parent\"><img src=\"https://colab.research.google.com/assets/colab-badge.svg\" alt=\"Open In Colab\"/></a>"
      ]
    },
    {
      "cell_type": "code",
      "metadata": {
        "id": "dZHtYY40zPbu"
      },
      "source": [
        "import random\n",
        "\n",
        "suits = ('Hearts', 'Diamonds', 'Spades', 'Clubs')\n",
        "ranks = ('Two', 'Three', 'Four', 'Five', 'Six', 'Seven', 'Eight', 'Nine', 'Ten', 'Jack', 'Queen', 'King', 'Ace')\n",
        "values = {'Two':2, 'Three':3, 'Four':4, 'Five':5, 'Six':6, 'Seven':7, 'Eight':8, 'Nine':9, 'Ten':10, 'Jack':10,\n",
        "             'Queen':10, 'King':10, 'Ace':11} \n",
        "\n",
        "playing = True"
      ],
      "execution_count": 1,
      "outputs": []
    },
    {
      "cell_type": "code",
      "metadata": {
        "id": "eqfIw5z0zYXd"
      },
      "source": [
        "class Card():\n",
        "    \n",
        "    def __init__(self,suit,rank):\n",
        "        self.suit = suit\n",
        "        self.rank = rank\n",
        "    \n",
        "    def __str__(self):\n",
        "      return self.rank + ' of ' + self.suit"
      ],
      "execution_count": 2,
      "outputs": []
    },
    {
      "cell_type": "code",
      "metadata": {
        "id": "bIpOtNOJzgc8"
      },
      "source": [
        "class Deck:\n",
        "    \n",
        "    def __init__(self):\n",
        "        self.deck = []  # start with an empty list\n",
        "        for suit in suits:\n",
        "            for rank in ranks:\n",
        "                self.deck.append(Card(suit,rank))\n",
        "    \n",
        "    def __str__(self):\n",
        "        deck_disp = ''\n",
        "        for card in self.deck:\n",
        "          deck_disp += '\\n' + card.__str__()\n",
        "        return \"The deck has: \" + deck_disp\n",
        "\n",
        "    def shuffle(self):\n",
        "        random.shuffle(self.deck)\n",
        "        \n",
        "    def deal(self):\n",
        "      single_card = self.deck.pop()\n",
        "      return single_card"
      ],
      "execution_count": 3,
      "outputs": []
    },
    {
      "cell_type": "code",
      "metadata": {
        "id": "DYOvrger0BwR"
      },
      "source": [
        "class Hand:\n",
        "    def __init__(self):\n",
        "        self.cards = []  # start with an empty list as we did in the Deck class\n",
        "        self.value = 0   # start with zero value\n",
        "        self.aces = 0    # add an attribute to keep track of aces\n",
        "    \n",
        "    def add_card(self,card):\n",
        "      self.cards.append(card)\n",
        "      self.value += values[card.rank] \n",
        "\n",
        "      if card.rank == 'Ace':\n",
        "        self.aces += 1 \n",
        "    \n",
        "    def adjust_for_ace(self):\n",
        "      while self.value > 21 and self.aces > 0:\n",
        "        self.value -= 10\n",
        "        self.aces -= 1\n"
      ],
      "execution_count": 4,
      "outputs": []
    },
    {
      "cell_type": "code",
      "metadata": {
        "id": "uzBg5fRd0o8a"
      },
      "source": [
        "class Chips:\n",
        "    \n",
        "    def __init__(self,total=200):\n",
        "        self.total = total # This can be set to a default value or supplied by a user input\n",
        "        self.bet = 0\n",
        "        \n",
        "    def win_bet(self):\n",
        "        self.total += self.bet\n",
        "    \n",
        "    def lose_bet(self):\n",
        "        self.total -= self.bet"
      ],
      "execution_count": 5,
      "outputs": []
    },
    {
      "cell_type": "code",
      "metadata": {
        "id": "jgryQdzY0wYr"
      },
      "source": [
        "def take_bet(player_chips):\n",
        "  while True:\n",
        "    try:\n",
        "      player_chips.bet = int(input(\"How much chips would you like to bet ? \"))\n",
        "    except:\n",
        "      print(\"Please enter number to proceed\")\n",
        "    else:\n",
        "      if player_chips.total >= player_chips.bet:\n",
        "        break\n",
        "      else:\n",
        "        print(f\"You can't bet {player_chips.bet} chips. Your available chips is {player_chips.total}\")"
      ],
      "execution_count": 6,
      "outputs": []
    },
    {
      "cell_type": "code",
      "metadata": {
        "id": "ocQBFZiN0-dE"
      },
      "source": [
        "def hit(deck,hand):\n",
        "    deal_card = deck.deal()\n",
        "    hand.add_card(deal_card)\n",
        "    hand.adjust_for_ace()"
      ],
      "execution_count": 7,
      "outputs": []
    },
    {
      "cell_type": "code",
      "metadata": {
        "id": "_u_jYTIk1Be6"
      },
      "source": [
        "def hit_or_stand(deck,hand):\n",
        "    global playing  # to control an upcoming while loop\n",
        "    while True:\n",
        "      play_choice = input(\"Do you want to Hit or Stand ? Enter 'h' or 's' : \")\n",
        "      if play_choice[0].lower() == 'h':\n",
        "        hit(deck,hand)\n",
        "      elif play_choice[0].lower() == 's':\n",
        "        print(\"Player Stands. Dealer's turn!!\")\n",
        "        playing = False\n",
        "      else:\n",
        "        print(\"Sorry, Invalid Choice, Please enter 'h' or 's'\")\n",
        "        continue\n",
        "      break"
      ],
      "execution_count": 8,
      "outputs": []
    },
    {
      "cell_type": "code",
      "metadata": {
        "id": "JAidZu_y1H29"
      },
      "source": [
        "def show_some(player,dealer):\n",
        "  print(\"\\nCards in Dealer's hand: \")\n",
        "  print(\"<card is hidden>\")\n",
        "  print(dealer.cards[1])\n",
        "\n",
        "  print(\"\\nCards in Player's hand: \", *player.cards,sep ='\\n')\n",
        "   \n",
        "def show_all(player,dealer):\n",
        "  print(\"\\nCards in Dealer's hand: \", *dealer.cards,sep ='\\n')\n",
        "  print(f\"Total value of Dealer's cards : {dealer.value}\")\n",
        "\n",
        "  print(\"\\nCards in Player's hand: \", *player.cards,sep ='\\n')\n",
        "  print(f\"Total value of Player's cards : {player.value}\")"
      ],
      "execution_count": 9,
      "outputs": []
    },
    {
      "cell_type": "code",
      "metadata": {
        "id": "BWr7zYOF1L0m"
      },
      "source": [
        "def player_busts(player,dealer,chips):\n",
        "  print(\"\\nPLAYER BUSTED!! DEALER WINS!!\")\n",
        "  chips.lose_bet()\n",
        "\n",
        "def player_wins(player,dealer,chips):\n",
        "  print(\"\\nPLAYER WINS!!!\")\n",
        "  chips.win_bet()\n",
        "\n",
        "def dealer_busts(player,dealer,chips):\n",
        "  print(\"\\nDEALER BUSTED!! PLAYER WINS!!\")\n",
        "  chips.win_bet()\n",
        "    \n",
        "def dealer_wins(player,dealer,chips):\n",
        "  print(\"\\nDEALER WINS!!!\")\n",
        "  chips.lose_bet()\n",
        "    \n",
        "def push(player,dealer):\n",
        "  print(\"Tie Game!! Both player and dealer has same value of cards! PUSH!!\")"
      ],
      "execution_count": 13,
      "outputs": []
    },
    {
      "cell_type": "code",
      "metadata": {
        "colab": {
          "base_uri": "https://localhost:8080/"
        },
        "id": "uvJgJ-xr1WDE",
        "outputId": "eedcb86a-618b-4984-c62b-12a00e929b8a"
      },
      "source": [
        "new_game = ''\n",
        "# Print an opening statement\n",
        "print(\"Welcome to BLACKJACK !!!\")\n",
        "while True:     \n",
        "    # Create & shuffle the deck, deal two cards to each player\n",
        "    main_deck = Deck()\n",
        "    main_deck.shuffle()\n",
        "    player_hand = Hand()\n",
        "    dealer_hand = Hand()\n",
        "    for i in range(2):\n",
        "      player_hand.add_card(main_deck.deal())\n",
        "      dealer_hand.add_card(main_deck.deal())    \n",
        "\n",
        "    if new_game == ''    :\n",
        "      # Set up the Player's chips\n",
        "      player_chips = Chips()    \n",
        "      # Prompt the Player for their bet\n",
        "      print(f\"\\nPlayer has {player_chips.total} chips in total\")\n",
        "    else:\n",
        "      player_chips = Chips(player_chips.total)\n",
        "      print(f\"\\nPlayer has {player_chips.total} chips in total\")\n",
        "\n",
        "    take_bet(player_chips)\n",
        "        \n",
        "    # Show cards (but keep one dealer card hidden)\n",
        "    show_some(player_hand,dealer_hand)\n",
        "    \n",
        "    while playing:  # recall this variable from our hit_or_stand function\n",
        "        \n",
        "        # Prompt for Player to Hit or Stand\n",
        "        hit_or_stand(main_deck,player_hand)        \n",
        "        \n",
        "        # Show cards (but keep one dealer card hidden)\n",
        "        show_some(player_hand,dealer_hand) \n",
        "        \n",
        "        # If player's hand exceeds 21, run player_busts() and break out of loop\n",
        "        if player_hand.value > 21:\n",
        "          player_busts(player_hand,dealer_hand,player_chips)     \n",
        "          break\n",
        "\n",
        "    # If Player hasn't busted, play Dealer's hand until Dealer reaches 17\n",
        "    if player_hand.value <= 21:\n",
        "\n",
        "      while dealer_hand.value < 17:\n",
        "        print(\"Dealer is going to hit\")\n",
        "        hit(main_deck,dealer_hand)   \n",
        "\n",
        "        # Show all cards\n",
        "      show_all(player_hand,dealer_hand)\n",
        "    \n",
        "        # Run different winning scenarios\n",
        "      if dealer_hand.value > 21:\n",
        "        dealer_busts(player_hand,dealer_hand,player_chips)\n",
        "      elif dealer_hand.value > player_hand.value:\n",
        "        dealer_wins(player_hand,dealer_hand,player_chips)\n",
        "      elif dealer_hand.value < player_hand.value:\n",
        "        player_wins(player_hand,dealer_hand,player_chips)\n",
        "      else:\n",
        "        push(player_hand,dealer_hand)        \n",
        "    \n",
        "    # Inform Player of their chips total \n",
        "    print(f\"\\nPlayer have {player_chips.total} chips at hand\")\n",
        "    \n",
        "    # Ask to play again\n",
        "    new_game = input(\"Do you want to play another game ? y/n : \")\n",
        "    if new_game[0].lower() == 'y':\n",
        "      playing = True\n",
        "      continue\n",
        "    else:\n",
        "      print(\"Thank you!!!\")\n",
        "      break  \n",
        "\n"
      ],
      "execution_count": 16,
      "outputs": [
        {
          "output_type": "stream",
          "text": [
            "Welcome to BLACKJACK !!!\n",
            "\n",
            "Player has 200 chips in total\n",
            "How much chips would you like to bet ? 100\n",
            "\n",
            "Cards in Dealer's hand: \n",
            "<card is hidden>\n",
            "Seven of Hearts\n",
            "\n",
            "Cards in Player's hand: \n",
            "Jack of Clubs\n",
            "Queen of Spades\n",
            "Dealer is going to hit\n",
            "\n",
            "Cards in Dealer's hand: \n",
            "Six of Clubs\n",
            "Seven of Hearts\n",
            "Four of Hearts\n",
            "Total value of Dealer's cards : 17\n",
            "\n",
            "Cards in Player's hand: \n",
            "Jack of Clubs\n",
            "Queen of Spades\n",
            "Total value of Player's cards : 20\n",
            "\n",
            "PLAYER WINS!!!\n",
            "\n",
            "Player have 300 chips at hand\n",
            "Do you want to play another game ? y/n : y\n",
            "\n",
            "Player has 300 chips in total\n",
            "How much chips would you like to bet ? 100\n",
            "\n",
            "Cards in Dealer's hand: \n",
            "<card is hidden>\n",
            "Six of Spades\n",
            "\n",
            "Cards in Player's hand: \n",
            "Five of Diamonds\n",
            "Ten of Diamonds\n",
            "Do you want to Hit or Stand ? Enter 'h' or 's' : s\n",
            "Player Stands. Dealer's turn!!\n",
            "\n",
            "Cards in Dealer's hand: \n",
            "<card is hidden>\n",
            "Six of Spades\n",
            "\n",
            "Cards in Player's hand: \n",
            "Five of Diamonds\n",
            "Ten of Diamonds\n",
            "Dealer is going to hit\n",
            "\n",
            "Cards in Dealer's hand: \n",
            "Ten of Clubs\n",
            "Six of Spades\n",
            "Ten of Hearts\n",
            "Total value of Dealer's cards : 26\n",
            "\n",
            "Cards in Player's hand: \n",
            "Five of Diamonds\n",
            "Ten of Diamonds\n",
            "Total value of Player's cards : 15\n",
            "\n",
            "DEALER BUSTED!! PLAYER WINS!!\n",
            "\n",
            "Player have 400 chips at hand\n",
            "Do you want to play another game ? y/n : y\n",
            "\n",
            "Player has 400 chips in total\n",
            "How much chips would you like to bet ? 200\n",
            "\n",
            "Cards in Dealer's hand: \n",
            "<card is hidden>\n",
            "Four of Spades\n",
            "\n",
            "Cards in Player's hand: \n",
            "King of Spades\n",
            "Two of Spades\n",
            "Do you want to Hit or Stand ? Enter 'h' or 's' : h\n",
            "\n",
            "Cards in Dealer's hand: \n",
            "<card is hidden>\n",
            "Four of Spades\n",
            "\n",
            "Cards in Player's hand: \n",
            "King of Spades\n",
            "Two of Spades\n",
            "Three of Diamonds\n",
            "Do you want to Hit or Stand ? Enter 'h' or 's' : h\n",
            "\n",
            "Cards in Dealer's hand: \n",
            "<card is hidden>\n",
            "Four of Spades\n",
            "\n",
            "Cards in Player's hand: \n",
            "King of Spades\n",
            "Two of Spades\n",
            "Three of Diamonds\n",
            "Queen of Clubs\n",
            "\n",
            "PLAYER BUSTED!! DEALER WINS!!\n",
            "\n",
            "Player have 200 chips at hand\n",
            "Do you want to play another game ? y/n : n\n",
            "Thank you!!!\n"
          ],
          "name": "stdout"
        }
      ]
    }
  ]
}